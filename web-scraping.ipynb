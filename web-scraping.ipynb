{
 "cells": [
  {
   "cell_type": "markdown",
   "metadata": {},
   "source": [
    "# Web Mining and Applied NLP (44-620)\n",
    "\n",
    "## Web Scraping and NLP with Requests, BeautifulSoup, and spaCy\n",
    "\n",
    "### Student Name: Cameron Landon\n",
    "### GitHub Repo: https://github.com/CamLandon/Module06\n",
    "\n",
    "Perform the tasks described in the Markdown cells below.  When you have completed the assignment make sure your code cells have all been run (and have output beneath them) and ensure you have committed and pushed ALL of your changes to your assignment repository.\n",
    "\n",
    "Every question that requires you to write code will have a code cell underneath it; you may either write your entire solution in that cell or write it in a python file (`.py`), then import and run the appropriate code to answer the question."
   ]
  },
  {
   "cell_type": "markdown",
   "metadata": {},
   "source": [
    "### Packages"
   ]
  },
  {
   "cell_type": "code",
   "execution_count": 1,
   "metadata": {},
   "outputs": [
    {
     "name": "stdout",
     "output_type": "stream",
     "text": [
      "Package            Version\n",
      "------------------ ---------\n",
      "anyio              3.7.1\n",
      "appdirs            1.4.4\n",
      "asgiref            3.7.2\n",
      "asttokens          2.2.1\n",
      "backcall           0.2.0\n",
      "beautifulsoup4     4.12.2\n",
      "blis               0.7.10\n",
      "catalogue          2.0.9\n",
      "certifi            2023.7.22\n",
      "charset-normalizer 3.2.0\n",
      "click              8.1.6\n",
      "colorama           0.4.6\n",
      "comm               0.1.3\n",
      "confection         0.1.0\n",
      "contextvars        2.4\n",
      "contourpy          1.1.0\n",
      "cycler             0.11.0\n",
      "cymem              2.0.7\n",
      "debugpy            1.6.7\n",
      "decorator          5.1.1\n",
      "en-core-web-sm     3.6.0\n",
      "exceptiongroup     1.1.2\n",
      "executing          1.2.0\n",
      "fonttools          4.41.1\n",
      "h11                0.14.0\n",
      "html5lib           1.1\n",
      "htmltools          0.2.1\n",
      "idna               3.4\n",
      "immutables         0.19\n",
      "importlib-metadata 6.8.0\n",
      "ipykernel          6.25.0\n",
      "ipython            8.14.0\n",
      "ipywidgets         8.0.7\n",
      "jedi               0.19.0\n",
      "Jinja2             3.1.2\n",
      "joblib             1.3.1\n",
      "jupyter_client     8.3.0\n",
      "jupyter_core       5.3.1\n",
      "jupyterlab-widgets 3.0.8\n",
      "kiwisolver         1.4.4\n",
      "langcodes          3.3.0\n",
      "linkify-it-py      2.0.2\n",
      "lyricsgenius       3.0.1\n",
      "markdown-it-py     3.0.0\n",
      "MarkupSafe         2.1.3\n",
      "matplotlib         3.7.2\n",
      "matplotlib-inline  0.1.6\n",
      "mdit-py-plugins    0.4.0\n",
      "mdurl              0.1.2\n",
      "murmurhash         1.0.9\n",
      "nest-asyncio       1.5.7\n",
      "nltk               3.8.1\n",
      "numpy              1.25.1\n",
      "packaging          23.1\n",
      "parso              0.8.3\n",
      "pathy              0.10.2\n",
      "pickleshare        0.7.5\n",
      "Pillow             10.0.0\n",
      "pip                23.2.1\n",
      "platformdirs       3.10.0\n",
      "preshed            3.0.8\n",
      "prompt-toolkit     3.0.39\n",
      "psutil             5.9.5\n",
      "pure-eval          0.2.2\n",
      "pydantic           1.10.12\n",
      "Pygments           2.15.1\n",
      "PyJWT              2.8.0\n",
      "pyparsing          3.0.9\n",
      "python-dateutil    2.8.2\n",
      "python-multipart   0.0.6\n",
      "pywin32            306\n",
      "pyzmq              25.1.0\n",
      "regex              2023.6.3\n",
      "requests           2.31.0\n",
      "rsconnect-python   1.19.0\n",
      "semver             2.13.0\n",
      "setuptools         65.5.0\n",
      "shiny              0.4.0\n",
      "shinyswatch        0.2.4\n",
      "six                1.16.0\n",
      "smart-open         6.3.0\n",
      "sniffio            1.3.0\n",
      "soupsieve          2.4.1\n",
      "spacy              3.6.0\n",
      "spacy-legacy       3.0.12\n",
      "spacy-loggers      1.0.4\n",
      "spacytextblob      4.0.0\n",
      "srsly              2.4.7\n",
      "stack-data         0.6.2\n",
      "starlette          0.31.0\n",
      "textblob           0.15.3\n",
      "thinc              8.1.10\n",
      "tornado            6.3.2\n",
      "tqdm               4.65.0\n",
      "traitlets          5.9.0\n",
      "typer              0.9.0\n",
      "typing_extensions  4.7.1\n",
      "uc-micro-py        1.0.2\n",
      "urllib3            2.0.4\n",
      "uvicorn            0.23.1\n",
      "wasabi             1.1.2\n",
      "watchfiles         0.19.0\n",
      "wcwidth            0.2.6\n",
      "webencodings       0.5.1\n",
      "websockets         11.0.3\n",
      "wheel              0.41.0\n",
      "widgetsnbextension 4.0.8\n",
      "XStatic-bootswatch 3.3.7.0\n",
      "zipp               3.16.2\n",
      "All prereqs installed.\n"
     ]
    }
   ],
   "source": [
    "# Create and activate a Python virtual environment. \n",
    "# Before starting the project, try all these imports FIRST\n",
    "# Address any errors you get running this code cell \n",
    "# by installing the necessary packages into your active Python environment.\n",
    "# Try to resolve issues using your materials and the web.\n",
    "# If that doesn't work, ask for help in the discussion forums.\n",
    "# You can't complete the exercises until you import these - start early! \n",
    "# We also import pickle and Counter (included in the Python Standard Library).\n",
    "\n",
    "from collections import Counter\n",
    "import pickle\n",
    "import requests\n",
    "import spacy\n",
    "from bs4 import BeautifulSoup\n",
    "import matplotlib.pyplot as plt\n",
    "\n",
    "!pip list\n",
    "print('All prereqs installed.')"
   ]
  },
  {
   "cell_type": "markdown",
   "metadata": {},
   "source": [
    "### Question 1"
   ]
  },
  {
   "cell_type": "markdown",
   "metadata": {},
   "source": [
    "1. Write code that extracts the article html from https://web.archive.org/web/20210327165005/https://hackaday.com/2021/03/22/how-laser-headlights-work/ and dumps it to a .pkl (or other appropriate file)"
   ]
  },
  {
   "cell_type": "code",
   "execution_count": 2,
   "metadata": {},
   "outputs": [
    {
     "name": "stdout",
     "output_type": "stream",
     "text": [
      "Article HTML has been successfully extracted and saved to 'article_html.pkl'.\n"
     ]
    }
   ],
   "source": [
    "import requests\n",
    "import pickle\n",
    "\n",
    "url = \"https://web.archive.org/web/20210327165005/https://hackaday.com/2021/03/22/how-laser-headlights-work/\"\n",
    "\n",
    "try:\n",
    "    # Send a request to fetch the webpage content\n",
    "    response = requests.get(url)\n",
    "    response.raise_for_status()  # Check if the request was successful\n",
    "\n",
    "    # Extract the HTML content from the response\n",
    "    article_html = response.text\n",
    "\n",
    "    # Save the HTML content to a .pkl file\n",
    "    output_filename = \"article_html.pkl\"\n",
    "    with open(output_filename, \"wb\") as file:\n",
    "        pickle.dump(article_html, file)\n",
    "\n",
    "    print(f\"Article HTML has been successfully extracted and saved to '{output_filename}'.\")\n",
    "except requests.exceptions.RequestException as e:\n",
    "    print(\"Error occurred while fetching the webpage:\", e)"
   ]
  },
  {
   "cell_type": "markdown",
   "metadata": {},
   "source": [
    "### Question 2"
   ]
  },
  {
   "cell_type": "markdown",
   "metadata": {},
   "source": [
    "2. Read in your article's html source from the file you created in question 1 and print it's text (use `.get_text()`)"
   ]
  },
  {
   "cell_type": "code",
   "execution_count": 3,
   "metadata": {},
   "outputs": [
    {
     "name": "stdout",
     "output_type": "stream",
     "text": [
      "\n",
      "\n",
      "How Laser Headlights Work\n",
      "\n",
      "\n",
      "                130 Comments            \n",
      "\n",
      "by:\n",
      "Lewin Day\n",
      "\n",
      "\n",
      "\n",
      "March 22, 2021\n",
      "\n",
      "\n",
      "\n",
      "\n",
      "\n",
      "\n",
      "\n",
      "\n",
      "When we think about the onward march of automotive technology, headlights aren’t usually the first thing that come to mind. Engines, fuel efficiency, and the switch to electric power are all more front of mind. However, that doesn’t mean there aren’t thousands of engineers around the world working to improve the state of the art in automotive lighting day in, day out.\n",
      "Sealed beam headlights gave way to more modern designs once regulations loosened up, while bulbs moved from simple halogens to xenon HIDs and, more recently, LEDs. Now, a new technology is on the scene, with lasers!\n",
      "\n",
      "Laser Headlights?!\n",
      "BWM’s prototype laser headlight assemblies undergoing testing.\n",
      "The first image brought to mind by the phrase “laser headlights” is that of laser beams firing out the front of an automobile. Obviously, coherent beams of monochromatic light would make for poor illumination outside of a very specific spot quite some distance away. Thankfully for our eyes, laser headlights don’t work in this way at all.\n",
      "Instead, laser headlights consist of one or more solid state laser diodes mounted inside the headlight. These blue lasers are fired at a yellow phosphor, similar to that used in white LEDs. This produces a powerful, vibrant white light that can then be bounced off reflectors and out of the headlights towards the road. Laser headlights built in this way have several benefits. They’re more energy efficient than LEDs that put out the same amount of light, while also being more space efficient, too.\n",
      "BWM’s futuristic i8 was one of the first vehicles to ship with laser headlight technology.\n",
      "Laser headlights are still a nascent technology, thus far only appearing in a few BMW, Audi, and other select vehicles. BMW’s technology was developed in partnership with lighting experts OSRAM. In practice, a regular LED low-beam lamp is used, with the laser used to create an incredibly bright and focused spot, used for high-beams. This can provide illumination out to 600 meters ahead of the vehicle, double that of conventional LED high beams. The lights use indium gallium nitride diode lasers that were originally used in projectors, with power levels above 1 watt. One of the challenges in implementing such technology in an automotive environment is the need for it to operate at temperature extremes. While research lasers and laser pointers may primarily be used at typical room temperatures, automotive headlights must be able to withstand everything from 40 degrees below zero up to 50 degrees C. Thankfully, the laser’s high efficiency means it doesn’t have huge heat output of its own to further complicate things. Other engineering challenges involve tailoring the optics package for the rough-and-tumble, high vibration environment found in the automotive application. It’s also important to ensure, as with any such device, that the end user can’t be exposed to harmful laser radiation in the event of accident or malfunction.\n",
      "Tearing Down the Laser Headlight\n",
      "A marketing image showing the construction of an aftermarket LED/laser headlight. We’d take the laser power with a grain of salt — it’s difficult to imagine a 10 W laser shining directly on some small LEDs without melting a hole through the board in short order.\n",
      "An aftermarket has sprung up too, with delightfully innovative designs. Combined laser/LED headlights are readily available on Alibaba, designed as a drop in replacement for projector lamps on existing vehicles. These often use an LED low-beam, and a combined LED/laser high beam, where the laser diode shoots directly at the LED phosphor to excite it further, rather than using its own. These units often also come with fan cooling to keep the laser and LEDs below their maximum operational temperature. Such developments are exciting, though it’s important to be wary of the performance of unknown aftermarket headlights. Many aftermarket LED headlight “upgrades” fail to pass muster when it comes to real-world performance, and there’s no reason to believe hybrid LED/laser designs will be any different. We’d love to pass a selection of these parts through a full IIHS test protocol, but that’s sadly beyond the scope (and budget!) of this article.\n",
      "However, [mikeselectricstuff] has happened to lay his hands on both the BMW and aftermarket parts, tearing them all down in his workshop to see what makes them tick. The differences are multitude when laid bare on the bench. The AliExpress part is relatively simple, wired up no differently from a regular headlight. Interestingly, however, the laser high-beam circuit runs all the time in these parts. To prevent blinding other road users, a shutter is kept in place to block the light, which is moved out of the way with a solenoid when the driver turns on the high beam switch.\n",
      "Where the aftermarket part is a little out of left field, the BMW design is another thing entirely. The cutting-edge headlights are hooked up with multiple connectors and over 30 conductors, with much of the driver electronics living in an external controller. Much of this is to drive the various LEDs and stepper motors for slewing the headlights when steering. However, the laser assembly brings its own complexities. Twin light sensors are built inside to monitor the laser beam, and a special metal blocking arm sits directly in front of the diode, presumably to stop the laser light leaving the headlight in the event the phosphor coating burns through. It’s truly wild to get a look inside a modern luxury car’s headlight and see just how far we’ve come from the old days of simple sealed beams.\n",
      "Cost Versus Performance\n",
      "Despite the efficiency gains available, the technology remains expensive. Powerful laser diodes don’t come cheap, after all. However, as the technology trickles down to lower-end models, it’s likely that we could see economies of scale change that for the better. Indeed, if national authorities begin to demand higher performance headlights as standard, we could see laser headlights become the norm, rather than an expensive luxury. The technology could naturally be applied to home and commercial lighting, too — though we suspect the potential gains are limited enough that LED lighting will remain the norm for some time to come.\n",
      "The high light output of laser headlights in a compact package allows engineers greater freedom when designing the front-end of a car.\n",
      "As it currently stands, much of the appeal of the new technology is about the packaging benefits, which allow automotive designers greater freedom around the headlight area. Such concerns are less of a factor when it comes to light fittings in the home or office, or indeed, on lower-end automobiles. Regardless, it’s an exciting new application for lasers and one we’ll be sure to see more of in the future.\n",
      " \n",
      "\n",
      "\n",
      "\n",
      "\n",
      " \n",
      "\n",
      "\n",
      "\n",
      "\n",
      "\n",
      "\n",
      "\n",
      "\n",
      "\n",
      "\n",
      "\n",
      "\n",
      "\n",
      "\n",
      "\n",
      "\n",
      "\n",
      "\n",
      "\n",
      "Posted in car hacks, Engineering, Featured, Laser Hacks, SliderTagged laser, laser headlight, laser headlights, light \n",
      "\n"
     ]
    }
   ],
   "source": [
    "import pickle\n",
    "from bs4 import BeautifulSoup\n",
    "\n",
    "input_filename = \"article_html.pkl\"\n",
    "\n",
    "try:\n",
    "    # Load the HTML content from the .pkl file\n",
    "    with open(input_filename, \"rb\") as file:\n",
    "        article_html = pickle.load(file)\n",
    "\n",
    "    # Parse the HTML using BeautifulSoup\n",
    "    soup = BeautifulSoup(article_html, \"html.parser\")\n",
    "\n",
    "  # Find the main article container element\n",
    "    article_container = soup.find(\"article\")  # You may need to use a different tag or class here\n",
    "\n",
    "    if article_container:\n",
    "        # Extract and print the text of the article\n",
    "        article_text = article_container.get_text()\n",
    "        print(article_text)\n",
    "    else:\n",
    "        print(\"Main article container not found.\")\n",
    "except FileNotFoundError:\n",
    "    print(\"The input file does not exist.\")\n",
    "except Exception as e:\n",
    "    print(\"Error occurred:\", e)"
   ]
  },
  {
   "cell_type": "markdown",
   "metadata": {},
   "source": [
    "### Question 3"
   ]
  },
  {
   "cell_type": "markdown",
   "metadata": {
    "editable": true,
    "slideshow": {
     "slide_type": ""
    },
    "tags": []
   },
   "source": [
    "3. Load the article text into a trained `spaCy` pipeline, and determine the 5 most frequent tokens (converted to lower case).  Print the common tokens with an appropriate label.  Additionally, print the tokens their frequencies (with appropriate labels). Make sure to remove things we don't care about (punctuation, stopwords, whitespace)."
   ]
  },
  {
   "cell_type": "code",
   "execution_count": 4,
   "metadata": {},
   "outputs": [
    {
     "name": "stdout",
     "output_type": "stream",
     "text": [
      "Most frequent tokens:\n",
      "laser: 35\n",
      "headlights: 19\n",
      "headlight: 11\n",
      "technology: 10\n",
      "led: 10\n"
     ]
    }
   ],
   "source": [
    "import pickle\n",
    "import spacy\n",
    "import en_core_web_sm\n",
    "from collections import Counter\n",
    "import string\n",
    "from spacy.lang.en.stop_words import STOP_WORDS\n",
    "\n",
    "# Load the spaCy English model\n",
    "nlp = spacy.load(\"en_core_web_sm\")\n",
    "\n",
    "# Load the article HTML from the .pkl file\n",
    "input_filename = \"article_html.pkl\"\n",
    "with open(input_filename, \"rb\") as file:\n",
    "    article_html = pickle.load(file)\n",
    "\n",
    "# Parse the HTML using BeautifulSoup\n",
    "soup = BeautifulSoup(article_html, \"html.parser\")\n",
    "\n",
    "# Find the main article container element\n",
    "article_container = soup.find(\"article\")\n",
    "\n",
    "if article_container:\n",
    "    # Extract the text of the article\n",
    "    article_text = article_container.get_text()\n",
    "\n",
    "    # Process the text using spaCy\n",
    "    doc = nlp(article_text)\n",
    "\n",
    "    # Filter out punctuation, stopwords, and whitespace and convert to lowercase\n",
    "    tokens = [token.text.lower() for token in doc if token.is_alpha and not token.is_stop and not token.is_space]\n",
    "\n",
    "    # Get the 5 most frequent tokens\n",
    "    most_common_tokens = Counter(tokens).most_common(5)\n",
    "\n",
    "    # Print the common tokens and their frequencies\n",
    "    print(\"Most frequent tokens:\")\n",
    "    for token, frequency in most_common_tokens:\n",
    "        print(f\"{token}: {frequency}\")\n",
    "\n",
    "else:\n",
    "    print(\"Main article container not found.\")\n"
   ]
  },
  {
   "cell_type": "markdown",
   "metadata": {},
   "source": [
    "### Question 4"
   ]
  },
  {
   "cell_type": "markdown",
   "metadata": {},
   "source": [
    "4. Load the article text into a trained `spaCy` pipeline, and determine the 5 most frequent lemmas (converted to lower case).  Print the common lemmas with an appropriate label.  Additionally, print the lemmas with their frequencies (with appropriate labels). Make sure to remove things we don't care about (punctuation, stopwords, whitespace)."
   ]
  },
  {
   "cell_type": "code",
   "execution_count": 5,
   "metadata": {},
   "outputs": [
    {
     "name": "stdout",
     "output_type": "stream",
     "text": [
      "Most frequent lemmas:\n",
      "laser: 40\n",
      "headlight: 28\n",
      "beam: 12\n",
      "technology: 10\n",
      "light: 10\n"
     ]
    }
   ],
   "source": [
    "import pickle\n",
    "import spacy\n",
    "from collections import Counter\n",
    "import string\n",
    "from spacy.lang.en.stop_words import STOP_WORDS\n",
    "\n",
    "# Load the spaCy English model\n",
    "nlp = spacy.load(\"en_core_web_sm\")\n",
    "\n",
    "# Load the article HTML from the .pkl file\n",
    "input_filename = \"article_html.pkl\"\n",
    "with open(input_filename, \"rb\") as file:\n",
    "    article_html = pickle.load(file)\n",
    "\n",
    "# Parse the HTML using BeautifulSoup\n",
    "soup = BeautifulSoup(article_html, \"html.parser\")\n",
    "\n",
    "# Find the main article container element\n",
    "article_container = soup.find(\"article\")\n",
    "\n",
    "if article_container:\n",
    "    # Extract the text of the article\n",
    "    article_text = article_container.get_text()\n",
    "\n",
    "    # Process the text using spaCy\n",
    "    doc = nlp(article_text)\n",
    "\n",
    "    # Filter out punctuation, stopwords, and whitespace and convert to lowercase lemmas\n",
    "    lemmas = [token.lemma_.lower() for token in doc if token.is_alpha and not token.is_stop and not token.is_space]\n",
    "\n",
    "    # Get the 5 most frequent lemmas\n",
    "    most_common_lemmas = Counter(lemmas).most_common(5)\n",
    "\n",
    "    # Print the common lemmas and their frequencies\n",
    "    print(\"Most frequent lemmas:\")\n",
    "    for lemma, frequency in most_common_lemmas:\n",
    "        print(f\"{lemma}: {frequency}\")\n",
    "\n",
    "else:\n",
    "    print(\"Main article container not found.\")\n"
   ]
  },
  {
   "cell_type": "markdown",
   "metadata": {},
   "source": [
    "### Question 5"
   ]
  },
  {
   "cell_type": "markdown",
   "metadata": {},
   "source": [
    "5. Define the following methods:\n",
    "    * `score_sentence_by_token(sentence, interesting_token)` that takes a sentence and a list of interesting token and returns the number of times that any of the interesting words appear in the sentence divided by the number of words in the sentence\n",
    "    * `score_sentence_by_lemma(sentence, interesting_lemmas)` that takes a sentence and a list of interesting lemmas and returns the number of times that any of the interesting lemmas appear in the sentence divided by the number of words in the sentence\n",
    "    \n",
    "You may find some of the code from the in class notes useful; feel free to use methods (rewrite them in this cell as well).  Test them by showing the score of the first sentence in your article using the frequent tokens and frequent lemmas identified in question 3."
   ]
  },
  {
   "cell_type": "code",
   "execution_count": null,
   "metadata": {},
   "outputs": [],
   "source": []
  },
  {
   "cell_type": "markdown",
   "metadata": {},
   "source": [
    "### Question 6"
   ]
  },
  {
   "cell_type": "markdown",
   "metadata": {},
   "source": [
    "6. Make a list containing the scores (using tokens) of every sentence in the article, and plot a histogram with appropriate titles and axis labels of the scores. From your histogram, what seems to be the most common range of scores (put the answer in a comment after your code)?"
   ]
  },
  {
   "cell_type": "code",
   "execution_count": 6,
   "metadata": {},
   "outputs": [
    {
     "data": {
      "image/png": "[encoded data removed]",
      "text/plain": [
       "<Figure size 640x480 with 1 Axes>"
      ]
     },
     "metadata": {},
     "output_type": "display_data"
    }
   ],
   "source": [
    "import pickle\n",
    "import spacy\n",
    "import string\n",
    "from spacy.lang.en.stop_words import STOP_WORDS\n",
    "import matplotlib.pyplot as plt\n",
    "\n",
    "# Load the spaCy English model\n",
    "nlp = spacy.load(\"en_core_web_sm\")\n",
    "\n",
    "# Load the article HTML from the .pkl file\n",
    "input_filename = \"article_html.pkl\"\n",
    "with open(input_filename, \"rb\") as file:\n",
    "    article_html = pickle.load(file)\n",
    "\n",
    "# Parse the HTML using BeautifulSoup\n",
    "soup = BeautifulSoup(article_html, \"html.parser\")\n",
    "\n",
    "# Find the main article container element\n",
    "article_container = soup.find(\"article\")\n",
    "\n",
    "if article_container:\n",
    "    # Extract the text of the article\n",
    "    article_text = article_container.get_text()\n",
    "\n",
    "    # Process the text using spaCy\n",
    "    doc = nlp(article_text)\n",
    "\n",
    "    # Calculate scores for each sentence based on tokens\n",
    "    sentence_scores = []\n",
    "    for sentence in doc.sents:\n",
    "        tokens = [token.text.lower() for token in sentence if token.is_alpha and not token.is_stop and not token.is_space]\n",
    "        sentence_score = len(tokens)\n",
    "        sentence_scores.append(sentence_score)\n",
    "\n",
    "    # Plot a histogram of sentence scores\n",
    "    plt.hist(sentence_scores, bins=range(1, max(sentence_scores) + 2), align='left')\n",
    "    plt.xlabel('Number of Tokens')\n",
    "    plt.ylabel('Frequency')\n",
    "    plt.title('Histogram of Sentence Scores')\n",
    "    plt.show()\n",
    "\n",
    "else:\n",
    "    print(\"Main article container not found.\")\n"
   ]
  },
  {
   "cell_type": "markdown",
   "metadata": {},
   "source": [
    "### Question 7"
   ]
  },
  {
   "cell_type": "markdown",
   "metadata": {},
   "source": [
    "7. Make a list containing the scores (using lemmas) of every sentence in the article, and plot a histogram with appropriate titles and axis labels of the scores.  From your histogram, what seems to be the most common range of scores (put the answer in a comment after your code)?"
   ]
  },
  {
   "cell_type": "code",
   "execution_count": 9,
   "metadata": {},
   "outputs": [
    {
     "data": {
      "image/png": "[encoded data removed]",
      "text/plain": [
       "<Figure size 640x480 with 1 Axes>"
      ]
     },
     "metadata": {},
     "output_type": "display_data"
    }
   ],
   "source": [
    "import pickle\n",
    "import spacy\n",
    "import string\n",
    "from spacy.lang.en.stop_words import STOP_WORDS\n",
    "import matplotlib.pyplot as plt\n",
    "\n",
    "# Load the spaCy English model\n",
    "nlp = spacy.load(\"en_core_web_sm\")\n",
    "\n",
    "# Load the article HTML from the .pkl file\n",
    "input_filename = \"article_html.pkl\"\n",
    "with open(input_filename, \"rb\") as file:\n",
    "    article_html = pickle.load(file)\n",
    "\n",
    "# Parse the HTML using BeautifulSoup\n",
    "soup = BeautifulSoup(article_html, \"html.parser\")\n",
    "\n",
    "# Find the main article container element\n",
    "article_container = soup.find(\"article\")\n",
    "\n",
    "if article_container:\n",
    "    # Extract the text of the article\n",
    "    article_text = article_container.get_text()\n",
    "\n",
    "    # Process the text using spaCy\n",
    "    doc = nlp(article_text)\n",
    "\n",
    "    # Calculate scores for each sentence based on lemmas\n",
    "    sentence_scores = []\n",
    "    for sentence in doc.sents:\n",
    "        lemmas = [token.lemma_.lower() for token in sentence if token.is_alpha and not token.is_stop and not token.is_space]\n",
    "        sentence_score = len(lemmas)\n",
    "        sentence_scores.append(sentence_score)\n",
    "\n",
    "    # Plot a histogram of sentence scores\n",
    "    plt.hist(sentence_scores, bins=range(1, max(sentence_scores) + 2), align='left')\n",
    "    plt.xlabel('Number of Lemmas')\n",
    "    plt.ylabel('Frequency')\n",
    "    plt.title('Histogram of Sentence Scores (using Lemmas)')\n",
    "    plt.show()\n",
    "\n",
    "else:\n",
    "    print(\"Main article container not found.\")\n"
   ]
  },
  {
   "cell_type": "markdown",
   "metadata": {},
   "source": [
    "### Question 8"
   ]
  },
  {
   "cell_type": "markdown",
   "metadata": {},
   "source": [
    "8. Which tokens and lexems would be ommitted from the lists generated in questions 3 and 4 if we only wanted to consider nouns as interesting words?  How might we change the code to only consider nouns? Put your answer in this Markdown cell (you can edit it by double clicking it).\n",
    "\n",
    "\"t tokens = [token.text.lower() for token in doc if token.pos_ == 'NOUN' and not token.is_spac\"\n",
    "\n",
    "\"\r\n",
    "    lemmas = [token.lemma_.lower() for token in doc if token.pos_ == 'NOUN' and not token.is_\"space]"
   ]
  }
 ],
 "metadata": {
  "kernelspec": {
   "display_name": "venv",
   "language": "python",
   "name": "venv"
  },
  "language_info": {
   "codemirror_mode": {
    "name": "ipython",
    "version": 3
   },
   "file_extension": ".py",
   "mimetype": "text/x-python",
   "name": "python",
   "nbconvert_exporter": "python",
   "pygments_lexer": "ipython3",
   "version": "3.11.4"
  }
 },
 "nbformat": 4,
 "nbformat_minor": 4
}
